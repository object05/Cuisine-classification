{
 "cells": [
  {
   "cell_type": "markdown",
   "id": "a0de38b8",
   "metadata": {},
   "source": [
    "# CUISINE CLASSIFICATION USING RANDOM FOREST AND XGBOOST\n",
    "\n",
    "This is an attempt to reconstruct the experiment in the following scientific article:\n",
    "\"Cuisine Prediction based on Ingredients using Tree Boosting Algorithms\" by R. M. Rahul Venkatesh Kumar, M. Anand Kumar, Soman Kp found here: https://www.researchgate.net/publication/311853082_Cuisine_Prediction_based_on_Ingredients_using_Tree_Boosting_Algorithms\n",
    "\n",
    "### Github repositories used:\n",
    "\n",
    "https://github.com/tunglin55/Recipe2Cuisine/blob/master/Recipe2Cuisine.ipynb (Random forest) <br>\n",
    "https://github.com/Ramoooona/Machine-Learning---What-s-Cooking (XGBoost)"
   ]
  },
  {
   "cell_type": "code",
   "execution_count": 12,
   "id": "34dbba90",
   "metadata": {},
   "outputs": [],
   "source": [
    "%matplotlib inline\n",
    "import pandas as pd\n",
    "import matplotlib.pyplot as plt\n",
    "import seaborn as sns\n",
    "import numpy as np\n",
    "import xgboost as xgb\n",
    "from xgboost import XGBClassifier\n",
    "import time\n",
    "import re\n",
    "\n",
    "from itertools import chain\n",
    "from scipy import stats\n",
    "from nltk.stem import WordNetLemmatizer\n",
    "from Recipe2Cuisine_functions import preprocess, plot_confusion_matrix\n",
    "\n",
    "from sklearn.ensemble import RandomForestRegressor, RandomForestClassifier\n",
    "from sklearn.preprocessing import MultiLabelBinarizer\n",
    "from sklearn.model_selection import train_test_split, GridSearchCV\n",
    "from sklearn.metrics import accuracy_score\n",
    "\n",
    "from sklearn.metrics import confusion_matrix\n",
    "from sklearn.metrics import f1_score\n",
    "from sklearn.feature_extraction.text import TfidfVectorizer, CountVectorizer, TfidfTransformer\n",
    "\n",
    "from imblearn.over_sampling import SMOTE\n",
    "from imblearn.pipeline import make_pipeline, Pipeline\n",
    "import warnings\n",
    "from sklearn.linear_model import LogisticRegression"
   ]
  },
  {
   "cell_type": "markdown",
   "id": "59596bac",
   "metadata": {},
   "source": [
    "### Import json train file\n",
    "Here we can see example of the data used"
   ]
  },
  {
   "cell_type": "code",
   "execution_count": 13,
   "id": "0ad513d4",
   "metadata": {
    "scrolled": false
   },
   "outputs": [
    {
     "data": {
      "text/html": [
       "<div>\n",
       "<style scoped>\n",
       "    .dataframe tbody tr th:only-of-type {\n",
       "        vertical-align: middle;\n",
       "    }\n",
       "\n",
       "    .dataframe tbody tr th {\n",
       "        vertical-align: top;\n",
       "    }\n",
       "\n",
       "    .dataframe thead th {\n",
       "        text-align: right;\n",
       "    }\n",
       "</style>\n",
       "<table border=\"1\" class=\"dataframe\">\n",
       "  <thead>\n",
       "    <tr style=\"text-align: right;\">\n",
       "      <th></th>\n",
       "      <th>id</th>\n",
       "      <th>cuisine</th>\n",
       "      <th>ingredients</th>\n",
       "    </tr>\n",
       "  </thead>\n",
       "  <tbody>\n",
       "    <tr>\n",
       "      <th>0</th>\n",
       "      <td>10259</td>\n",
       "      <td>greek</td>\n",
       "      <td>[romaine lettuce, black olives, grape tomatoes...</td>\n",
       "    </tr>\n",
       "    <tr>\n",
       "      <th>1</th>\n",
       "      <td>25693</td>\n",
       "      <td>southern_us</td>\n",
       "      <td>[plain flour, ground pepper, salt, tomatoes, g...</td>\n",
       "    </tr>\n",
       "    <tr>\n",
       "      <th>2</th>\n",
       "      <td>20130</td>\n",
       "      <td>filipino</td>\n",
       "      <td>[eggs, pepper, salt, mayonaise, cooking oil, g...</td>\n",
       "    </tr>\n",
       "    <tr>\n",
       "      <th>3</th>\n",
       "      <td>22213</td>\n",
       "      <td>indian</td>\n",
       "      <td>[water, vegetable oil, wheat, salt]</td>\n",
       "    </tr>\n",
       "    <tr>\n",
       "      <th>4</th>\n",
       "      <td>13162</td>\n",
       "      <td>indian</td>\n",
       "      <td>[black pepper, shallots, cornflour, cayenne pe...</td>\n",
       "    </tr>\n",
       "  </tbody>\n",
       "</table>\n",
       "</div>"
      ],
      "text/plain": [
       "      id      cuisine                                        ingredients\n",
       "0  10259        greek  [romaine lettuce, black olives, grape tomatoes...\n",
       "1  25693  southern_us  [plain flour, ground pepper, salt, tomatoes, g...\n",
       "2  20130     filipino  [eggs, pepper, salt, mayonaise, cooking oil, g...\n",
       "3  22213       indian                [water, vegetable oil, wheat, salt]\n",
       "4  13162       indian  [black pepper, shallots, cornflour, cayenne pe..."
      ]
     },
     "execution_count": 13,
     "metadata": {},
     "output_type": "execute_result"
    }
   ],
   "source": [
    "trainFile = \"train.json\"\n",
    "testFile = \"test.json\"\n",
    "\n",
    "d_train = pd.read_json(trainFile)\n",
    "d_test = pd.read_json(testFile)\n",
    "d_train.head()"
   ]
  },
  {
   "cell_type": "code",
   "execution_count": 14,
   "id": "63f15c72",
   "metadata": {},
   "outputs": [
    {
     "data": {
      "text/html": [
       "<div>\n",
       "<style scoped>\n",
       "    .dataframe tbody tr th:only-of-type {\n",
       "        vertical-align: middle;\n",
       "    }\n",
       "\n",
       "    .dataframe tbody tr th {\n",
       "        vertical-align: top;\n",
       "    }\n",
       "\n",
       "    .dataframe thead th {\n",
       "        text-align: right;\n",
       "    }\n",
       "</style>\n",
       "<table border=\"1\" class=\"dataframe\">\n",
       "  <thead>\n",
       "    <tr style=\"text-align: right;\">\n",
       "      <th></th>\n",
       "      <th>id</th>\n",
       "      <th>ingredients</th>\n",
       "    </tr>\n",
       "  </thead>\n",
       "  <tbody>\n",
       "    <tr>\n",
       "      <th>0</th>\n",
       "      <td>18009</td>\n",
       "      <td>[baking powder, eggs, all-purpose flour, raisi...</td>\n",
       "    </tr>\n",
       "    <tr>\n",
       "      <th>1</th>\n",
       "      <td>28583</td>\n",
       "      <td>[sugar, egg yolks, corn starch, cream of tarta...</td>\n",
       "    </tr>\n",
       "    <tr>\n",
       "      <th>2</th>\n",
       "      <td>41580</td>\n",
       "      <td>[sausage links, fennel bulb, fronds, olive oil...</td>\n",
       "    </tr>\n",
       "    <tr>\n",
       "      <th>3</th>\n",
       "      <td>29752</td>\n",
       "      <td>[meat cuts, file powder, smoked sausage, okra,...</td>\n",
       "    </tr>\n",
       "    <tr>\n",
       "      <th>4</th>\n",
       "      <td>35687</td>\n",
       "      <td>[ground black pepper, salt, sausage casings, l...</td>\n",
       "    </tr>\n",
       "  </tbody>\n",
       "</table>\n",
       "</div>"
      ],
      "text/plain": [
       "      id                                        ingredients\n",
       "0  18009  [baking powder, eggs, all-purpose flour, raisi...\n",
       "1  28583  [sugar, egg yolks, corn starch, cream of tarta...\n",
       "2  41580  [sausage links, fennel bulb, fronds, olive oil...\n",
       "3  29752  [meat cuts, file powder, smoked sausage, okra,...\n",
       "4  35687  [ground black pepper, salt, sausage casings, l..."
      ]
     },
     "execution_count": 14,
     "metadata": {},
     "output_type": "execute_result"
    }
   ],
   "source": [
    "d_test.head()"
   ]
  },
  {
   "cell_type": "markdown",
   "id": "0fa08772",
   "metadata": {},
   "source": [
    "### Show info of data and it's composition"
   ]
  },
  {
   "cell_type": "code",
   "execution_count": 15,
   "id": "90ed056c",
   "metadata": {
    "scrolled": false
   },
   "outputs": [
    {
     "name": "stdout",
     "output_type": "stream",
     "text": [
      "<class 'pandas.core.frame.DataFrame'>\n",
      "RangeIndex: 39774 entries, 0 to 39773\n",
      "Data columns (total 3 columns):\n",
      " #   Column       Non-Null Count  Dtype \n",
      "---  ------       --------------  ----- \n",
      " 0   id           39774 non-null  int64 \n",
      " 1   cuisine      39774 non-null  object\n",
      " 2   ingredients  39774 non-null  object\n",
      "dtypes: int64(1), object(2)\n",
      "memory usage: 932.3+ KB\n"
     ]
    }
   ],
   "source": [
    "d_train.info()"
   ]
  },
  {
   "cell_type": "code",
   "execution_count": 16,
   "id": "62234876",
   "metadata": {},
   "outputs": [
    {
     "name": "stdout",
     "output_type": "stream",
     "text": [
      "<class 'pandas.core.frame.DataFrame'>\n",
      "RangeIndex: 9944 entries, 0 to 9943\n",
      "Data columns (total 2 columns):\n",
      " #   Column       Non-Null Count  Dtype \n",
      "---  ------       --------------  ----- \n",
      " 0   id           9944 non-null   int64 \n",
      " 1   ingredients  9944 non-null   object\n",
      "dtypes: int64(1), object(1)\n",
      "memory usage: 155.5+ KB\n"
     ]
    }
   ],
   "source": [
    "d_test.info()"
   ]
  },
  {
   "cell_type": "markdown",
   "id": "73218513",
   "metadata": {},
   "source": [
    "### Check if contains NaN anywhere"
   ]
  },
  {
   "cell_type": "code",
   "execution_count": 17,
   "id": "c219eec1",
   "metadata": {
    "scrolled": true
   },
   "outputs": [
    {
     "data": {
      "text/plain": [
       "id             False\n",
       "cuisine        False\n",
       "ingredients    False\n",
       "dtype: bool"
      ]
     },
     "execution_count": 17,
     "metadata": {},
     "output_type": "execute_result"
    }
   ],
   "source": [
    "d_train.isna().any()"
   ]
  },
  {
   "cell_type": "code",
   "execution_count": 18,
   "id": "1dc1c8ed",
   "metadata": {},
   "outputs": [
    {
     "data": {
      "text/plain": [
       "id             False\n",
       "ingredients    False\n",
       "dtype: bool"
      ]
     },
     "execution_count": 18,
     "metadata": {},
     "output_type": "execute_result"
    }
   ],
   "source": [
    "d_test.isna().any()"
   ]
  },
  {
   "cell_type": "markdown",
   "id": "0b28c8ff",
   "metadata": {},
   "source": [
    "# EDA"
   ]
  },
  {
   "cell_type": "code",
   "execution_count": 19,
   "id": "668d94a8",
   "metadata": {},
   "outputs": [
    {
     "data": {
      "image/png": "[encoded data removed]",
      "text/plain": [
       "<Figure size 1296x504 with 1 Axes>"
      ]
     },
     "metadata": {
      "needs_background": "light"
     },
     "output_type": "display_data"
    }
   ],
   "source": [
    "# Counts of the number of cuisine labels \n",
    "fig, ax = plt.subplots()\n",
    "fig.set_size_inches(18, 7)\n",
    "d_train['cuisine'].value_counts().plot(kind='bar');\n",
    "sns.set_style(\"whitegrid\") \n",
    "plt.xticks(rotation = '90', fontsize = 17);\n",
    "plt.yticks(fontsize = 17);\n",
    "ax.set_xlabel('Cuisines', fontsize = 20, weight='bold');\n",
    "ax.set_ylabel('Number of Labels', fontsize = 20, weight='bold');"
   ]
  },
  {
   "cell_type": "markdown",
   "id": "1b703f79",
   "metadata": {},
   "source": []
  },
  {
   "cell_type": "code",
   "execution_count": 20,
   "id": "8fa7665a",
   "metadata": {},
   "outputs": [],
   "source": [
    "# Count of how many ingredients per receipe in each cuisine \n",
    "d_train['Count'] = d_train['ingredients'].apply(len)\n",
    "d_train.head()\n",
    "\n",
    "d_test['Count'] = d_test['ingredients'].apply(len) #TODO\n",
    "#d_test.head()"
   ]
  },
  {
   "cell_type": "markdown",
   "id": "74003696",
   "metadata": {},
   "source": [
    "## Preprocessing"
   ]
  },
  {
   "cell_type": "code",
   "execution_count": 21,
   "id": "44f39089",
   "metadata": {},
   "outputs": [
    {
     "data": {
      "text/html": [
       "<div>\n",
       "<style scoped>\n",
       "    .dataframe tbody tr th:only-of-type {\n",
       "        vertical-align: middle;\n",
       "    }\n",
       "\n",
       "    .dataframe tbody tr th {\n",
       "        vertical-align: top;\n",
       "    }\n",
       "\n",
       "    .dataframe thead th {\n",
       "        text-align: right;\n",
       "    }\n",
       "</style>\n",
       "<table border=\"1\" class=\"dataframe\">\n",
       "  <thead>\n",
       "    <tr style=\"text-align: right;\">\n",
       "      <th></th>\n",
       "      <th>id</th>\n",
       "      <th>ingredients</th>\n",
       "      <th>Count</th>\n",
       "      <th>ingredients_clean</th>\n",
       "    </tr>\n",
       "  </thead>\n",
       "  <tbody>\n",
       "    <tr>\n",
       "      <th>0</th>\n",
       "      <td>18009</td>\n",
       "      <td>[baking powder, eggs, all-purpose flour, raisi...</td>\n",
       "      <td>6</td>\n",
       "      <td>baking powder,egg,all purpose flour,raisin,mil...</td>\n",
       "    </tr>\n",
       "    <tr>\n",
       "      <th>1</th>\n",
       "      <td>28583</td>\n",
       "      <td>[sugar, egg yolks, corn starch, cream of tarta...</td>\n",
       "      <td>11</td>\n",
       "      <td>sugar,egg yolks,corn starch,cream of tartar,ba...</td>\n",
       "    </tr>\n",
       "    <tr>\n",
       "      <th>2</th>\n",
       "      <td>41580</td>\n",
       "      <td>[sausage links, fennel bulb, fronds, olive oil...</td>\n",
       "      <td>6</td>\n",
       "      <td>sausage links,fennel bulb,frond,olive oil,cuba...</td>\n",
       "    </tr>\n",
       "    <tr>\n",
       "      <th>3</th>\n",
       "      <td>29752</td>\n",
       "      <td>[meat cuts, file powder, smoked sausage, okra,...</td>\n",
       "      <td>21</td>\n",
       "      <td>meat cuts,file powder,smoked sausage,okra,shri...</td>\n",
       "    </tr>\n",
       "    <tr>\n",
       "      <th>4</th>\n",
       "      <td>35687</td>\n",
       "      <td>[ground black pepper, salt, sausage casings, l...</td>\n",
       "      <td>8</td>\n",
       "      <td>ground black pepper,salt,sausage casings,leek,...</td>\n",
       "    </tr>\n",
       "  </tbody>\n",
       "</table>\n",
       "</div>"
      ],
      "text/plain": [
       "      id                                        ingredients  Count  \\\n",
       "0  18009  [baking powder, eggs, all-purpose flour, raisi...      6   \n",
       "1  28583  [sugar, egg yolks, corn starch, cream of tarta...     11   \n",
       "2  41580  [sausage links, fennel bulb, fronds, olive oil...      6   \n",
       "3  29752  [meat cuts, file powder, smoked sausage, okra,...     21   \n",
       "4  35687  [ground black pepper, salt, sausage casings, l...      8   \n",
       "\n",
       "                                   ingredients_clean  \n",
       "0  baking powder,egg,all purpose flour,raisin,mil...  \n",
       "1  sugar,egg yolks,corn starch,cream of tartar,ba...  \n",
       "2  sausage links,fennel bulb,frond,olive oil,cuba...  \n",
       "3  meat cuts,file powder,smoked sausage,okra,shri...  \n",
       "4  ground black pepper,salt,sausage casings,leek,...  "
      ]
     },
     "execution_count": 21,
     "metadata": {},
     "output_type": "execute_result"
    }
   ],
   "source": [
    "for item in d_train['ingredients']:\n",
    "    #item.replace(\"-\", \"_\")\n",
    "    for s in item:\n",
    "        re.sub(r\"-\", \"_\", s)\n",
    "        re.sub(r\"[^a-z0-9_ ]\", \"\", s)\n",
    "        \n",
    "for item in d_test['ingredients']:\n",
    "    #item.replace(\"-\", \"_\")\n",
    "    for s in item:\n",
    "        re.sub(r\"-\", \"_\", s)\n",
    "        re.sub(r\"[^a-z0-9_ ]\", \"\", s)\n",
    "\n",
    "\n",
    "\n",
    "\n",
    "# Clean data using word lemmatization\n",
    "d_train['ingredients_clean']=d_train['ingredients'].apply(preprocess)\n",
    "d_train.head()\n",
    "\n",
    "d_test['ingredients_clean']=d_test['ingredients'].apply(preprocess) #TODO\n",
    "d_test.head()"
   ]
  },
  {
   "cell_type": "code",
   "execution_count": 28,
   "id": "96e2252a",
   "metadata": {},
   "outputs": [],
   "source": [
    "# List of unique cuisine\n",
    "cusine_unique = list(d_train.cuisine.value_counts().index)\n",
    "\n",
    "# Plot histograms of top 10 ingredients for each cuisine\n",
    "counter = 0\n",
    "vocab = [] \n",
    "\n",
    "for c in cusine_unique:\n",
    "    subset = d_train[d_train.cuisine == c]\n",
    "    sub = []\n",
    "    \n",
    "    for item in subset.ingredients_clean:\n",
    "        sub.append(item.split(','))\n",
    "    A = pd.DataFrame(list(chain.from_iterable(sub)))\n",
    "\n",
    "    #vocab.append(A[0].value_counts().iloc[:35].index)\n",
    "    vocab.append(A[0]) \n",
    "    counter = counter + 1"
   ]
  },
  {
   "cell_type": "markdown",
   "id": "8c82d831",
   "metadata": {},
   "source": [
    "## TF-IDF"
   ]
  },
  {
   "cell_type": "code",
   "execution_count": 23,
   "id": "85adb52f",
   "metadata": {},
   "outputs": [
    {
     "name": "stdout",
     "output_type": "stream",
     "text": [
      "(39774, 6714)\n"
     ]
    },
    {
     "data": {
      "text/html": [
       "<div>\n",
       "<style scoped>\n",
       "    .dataframe tbody tr th:only-of-type {\n",
       "        vertical-align: middle;\n",
       "    }\n",
       "\n",
       "    .dataframe tbody tr th {\n",
       "        vertical-align: top;\n",
       "    }\n",
       "\n",
       "    .dataframe thead th {\n",
       "        text-align: right;\n",
       "    }\n",
       "</style>\n",
       "<table border=\"1\" class=\"dataframe\">\n",
       "  <thead>\n",
       "    <tr style=\"text-align: right;\">\n",
       "      <th></th>\n",
       "      <th>tf_idf_weights</th>\n",
       "    </tr>\n",
       "  </thead>\n",
       "  <tbody>\n",
       "    <tr>\n",
       "      <th>salt</th>\n",
       "      <td>1.517975</td>\n",
       "    </tr>\n",
       "    <tr>\n",
       "      <th>oil</th>\n",
       "      <td>1.633350</td>\n",
       "    </tr>\n",
       "    <tr>\n",
       "      <th>pepper</th>\n",
       "      <td>1.725468</td>\n",
       "    </tr>\n",
       "    <tr>\n",
       "      <th>garlic</th>\n",
       "      <td>1.780005</td>\n",
       "    </tr>\n",
       "    <tr>\n",
       "      <th>onion</th>\n",
       "      <td>2.012475</td>\n",
       "    </tr>\n",
       "  </tbody>\n",
       "</table>\n",
       "</div>"
      ],
      "text/plain": [
       "        tf_idf_weights\n",
       "salt          1.517975\n",
       "oil           1.633350\n",
       "pepper        1.725468\n",
       "garlic        1.780005\n",
       "onion         2.012475"
      ]
     },
     "execution_count": 23,
     "metadata": {},
     "output_type": "execute_result"
    }
   ],
   "source": [
    "# Define vocabulary for each cuisine\n",
    "all_vocab = set(list(chain.from_iterable(vocab)))\n",
    "\n",
    "# grab corpus of all ingredients\n",
    "all_ingredients = []\n",
    "for items in d_train['ingredients_clean']:\n",
    "    all_ingredients.append(items)\n",
    "\n",
    "# Count Frequency of words\n",
    "cv = CountVectorizer(vocabulary = all_vocab, max_df = 0.8)\n",
    "wordcount_vector = cv.fit_transform(all_ingredients)\n",
    "print(wordcount_vector.shape)\n",
    "\n",
    "tfidf_transformer=TfidfTransformer(smooth_idf = True, use_idf = True)\n",
    "tfidf_transformer.fit(wordcount_vector)\n",
    "\n",
    "# Print idf values\n",
    "df_idf = pd.DataFrame(tfidf_transformer.idf_, index=cv.get_feature_names(),columns=[\"tf_idf_weights\"])\n",
    " \n",
    "# Sort ascending for displaying\n",
    "df_idf.sort_values(by=['tf_idf_weights']).head()"
   ]
  },
  {
   "cell_type": "code",
   "execution_count": 24,
   "id": "92bf485a",
   "metadata": {},
   "outputs": [
    {
     "data": {
      "text/html": [
       "<div>\n",
       "<style scoped>\n",
       "    .dataframe tbody tr th:only-of-type {\n",
       "        vertical-align: middle;\n",
       "    }\n",
       "\n",
       "    .dataframe tbody tr th {\n",
       "        vertical-align: top;\n",
       "    }\n",
       "\n",
       "    .dataframe thead th {\n",
       "        text-align: right;\n",
       "    }\n",
       "</style>\n",
       "<table border=\"1\" class=\"dataframe\">\n",
       "  <thead>\n",
       "    <tr style=\"text-align: right;\">\n",
       "      <th></th>\n",
       "      <th>tfidf</th>\n",
       "    </tr>\n",
       "  </thead>\n",
       "  <tbody>\n",
       "    <tr>\n",
       "      <th>sirloin</th>\n",
       "      <td>0.427750</td>\n",
       "    </tr>\n",
       "    <tr>\n",
       "      <th>sake</th>\n",
       "      <td>0.412303</td>\n",
       "    </tr>\n",
       "    <tr>\n",
       "      <th>mirin</th>\n",
       "      <td>0.385306</td>\n",
       "    </tr>\n",
       "    <tr>\n",
       "      <th>shiitake</th>\n",
       "      <td>0.371489</td>\n",
       "    </tr>\n",
       "    <tr>\n",
       "      <th>cabbage</th>\n",
       "      <td>0.322448</td>\n",
       "    </tr>\n",
       "  </tbody>\n",
       "</table>\n",
       "</div>"
      ],
      "text/plain": [
       "             tfidf\n",
       "sirloin   0.427750\n",
       "sake      0.412303\n",
       "mirin     0.385306\n",
       "shiitake  0.371489\n",
       "cabbage   0.322448"
      ]
     },
     "execution_count": 24,
     "metadata": {},
     "output_type": "execute_result"
    }
   ],
   "source": [
    "# tf-idf scores\n",
    "tf_idf_vector=tfidf_transformer.transform(wordcount_vector)\n",
    "feature_names = cv.get_feature_names()\n",
    "\n",
    "# Get tfidf vector for 51st document\n",
    "first_document_vector=tf_idf_vector[50]\n",
    " \n",
    "# Print the scores\n",
    "df = pd.DataFrame(first_document_vector.T.todense(), index=feature_names, columns=[\"tfidf\"])\n",
    "df.sort_values(by=[\"tfidf\"], ascending=False).head()"
   ]
  },
  {
   "cell_type": "code",
   "execution_count": 25,
   "id": "497063da",
   "metadata": {},
   "outputs": [
    {
     "data": {
      "text/html": [
       "<div>\n",
       "<style scoped>\n",
       "    .dataframe tbody tr th:only-of-type {\n",
       "        vertical-align: middle;\n",
       "    }\n",
       "\n",
       "    .dataframe tbody tr th {\n",
       "        vertical-align: top;\n",
       "    }\n",
       "\n",
       "    .dataframe thead th {\n",
       "        text-align: right;\n",
       "    }\n",
       "</style>\n",
       "<table border=\"1\" class=\"dataframe\">\n",
       "  <thead>\n",
       "    <tr style=\"text-align: right;\">\n",
       "      <th></th>\n",
       "      <th>tfidf</th>\n",
       "    </tr>\n",
       "  </thead>\n",
       "  <tbody>\n",
       "    <tr>\n",
       "      <th>sirloin</th>\n",
       "      <td>0.427750</td>\n",
       "    </tr>\n",
       "    <tr>\n",
       "      <th>sake</th>\n",
       "      <td>0.412303</td>\n",
       "    </tr>\n",
       "    <tr>\n",
       "      <th>mirin</th>\n",
       "      <td>0.385306</td>\n",
       "    </tr>\n",
       "    <tr>\n",
       "      <th>shiitake</th>\n",
       "      <td>0.371489</td>\n",
       "    </tr>\n",
       "    <tr>\n",
       "      <th>cabbage</th>\n",
       "      <td>0.322448</td>\n",
       "    </tr>\n",
       "  </tbody>\n",
       "</table>\n",
       "</div>"
      ],
      "text/plain": [
       "             tfidf\n",
       "sirloin   0.427750\n",
       "sake      0.412303\n",
       "mirin     0.385306\n",
       "shiitake  0.371489\n",
       "cabbage   0.322448"
      ]
     },
     "execution_count": 25,
     "metadata": {},
     "output_type": "execute_result"
    }
   ],
   "source": [
    "# To double-check, we could also use TfidfVectorizer which also produces the same results\n",
    "tfidf_vectorizer=TfidfVectorizer(use_idf = True, vocabulary = all_vocab)\n",
    " \n",
    "# Input all ingredients for vectorizing\n",
    "tfidf_vectorizer_vectors=tfidf_vectorizer.fit_transform(all_ingredients)\n",
    "\n",
    "# Get the 51st vector out (for the first document)\n",
    "first_vector_tfidfvectorizer=tfidf_vectorizer_vectors[50]\n",
    " \n",
    "# Place tf-idf values in a pandas data frame\n",
    "df = pd.DataFrame(first_vector_tfidfvectorizer.T.todense(), index=tfidf_vectorizer.get_feature_names(), columns=[\"tfidf\"])\n",
    "df.sort_values(by=[\"tfidf\"],ascending=False).head()"
   ]
  },
  {
   "cell_type": "code",
   "execution_count": 26,
   "id": "3e51b865",
   "metadata": {},
   "outputs": [
    {
     "ename": "KeyError",
     "evalue": "'cuisine'",
     "output_type": "error",
     "traceback": [
      "\u001b[1;31m---------------------------------------------------------------------------\u001b[0m",
      "\u001b[1;31mKeyError\u001b[0m                                  Traceback (most recent call last)",
      "\u001b[1;32md:\\software\\python\\lib\\site-packages\\pandas\\core\\indexes\\base.py\u001b[0m in \u001b[0;36mget_loc\u001b[1;34m(self, key, method, tolerance)\u001b[0m\n\u001b[0;32m   3079\u001b[0m             \u001b[1;32mtry\u001b[0m\u001b[1;33m:\u001b[0m\u001b[1;33m\u001b[0m\u001b[1;33m\u001b[0m\u001b[0m\n\u001b[1;32m-> 3080\u001b[1;33m                 \u001b[1;32mreturn\u001b[0m \u001b[0mself\u001b[0m\u001b[1;33m.\u001b[0m\u001b[0m_engine\u001b[0m\u001b[1;33m.\u001b[0m\u001b[0mget_loc\u001b[0m\u001b[1;33m(\u001b[0m\u001b[0mcasted_key\u001b[0m\u001b[1;33m)\u001b[0m\u001b[1;33m\u001b[0m\u001b[1;33m\u001b[0m\u001b[0m\n\u001b[0m\u001b[0;32m   3081\u001b[0m             \u001b[1;32mexcept\u001b[0m \u001b[0mKeyError\u001b[0m \u001b[1;32mas\u001b[0m \u001b[0merr\u001b[0m\u001b[1;33m:\u001b[0m\u001b[1;33m\u001b[0m\u001b[1;33m\u001b[0m\u001b[0m\n",
      "\u001b[1;32mpandas\\_libs\\index.pyx\u001b[0m in \u001b[0;36mpandas._libs.index.IndexEngine.get_loc\u001b[1;34m()\u001b[0m\n",
      "\u001b[1;32mpandas\\_libs\\index.pyx\u001b[0m in \u001b[0;36mpandas._libs.index.IndexEngine.get_loc\u001b[1;34m()\u001b[0m\n",
      "\u001b[1;32mpandas\\_libs\\hashtable_class_helper.pxi\u001b[0m in \u001b[0;36mpandas._libs.hashtable.PyObjectHashTable.get_item\u001b[1;34m()\u001b[0m\n",
      "\u001b[1;32mpandas\\_libs\\hashtable_class_helper.pxi\u001b[0m in \u001b[0;36mpandas._libs.hashtable.PyObjectHashTable.get_item\u001b[1;34m()\u001b[0m\n",
      "\u001b[1;31mKeyError\u001b[0m: 'cuisine'",
      "\nThe above exception was the direct cause of the following exception:\n",
      "\u001b[1;31mKeyError\u001b[0m                                  Traceback (most recent call last)",
      "\u001b[1;32m<ipython-input-26-c1c32027b18f>\u001b[0m in \u001b[0;36m<module>\u001b[1;34m\u001b[0m\n\u001b[0;32m      5\u001b[0m \u001b[0mdata_features\u001b[0m\u001b[1;33m.\u001b[0m\u001b[0mcolumns\u001b[0m \u001b[1;33m=\u001b[0m \u001b[1;33m[\u001b[0m\u001b[0mfeature_names\u001b[0m\u001b[1;33m]\u001b[0m\u001b[1;33m\u001b[0m\u001b[1;33m\u001b[0m\u001b[0m\n\u001b[0;32m      6\u001b[0m \u001b[1;31m#y = d_train['cuisine']\u001b[0m\u001b[1;33m\u001b[0m\u001b[1;33m\u001b[0m\u001b[1;33m\u001b[0m\u001b[0m\n\u001b[1;32m----> 7\u001b[1;33m \u001b[0my\u001b[0m \u001b[1;33m=\u001b[0m \u001b[0md_test\u001b[0m\u001b[1;33m[\u001b[0m\u001b[1;34m'cuisine'\u001b[0m\u001b[1;33m]\u001b[0m\u001b[1;33m\u001b[0m\u001b[1;33m\u001b[0m\u001b[0m\n\u001b[0m",
      "\u001b[1;32md:\\software\\python\\lib\\site-packages\\pandas\\core\\frame.py\u001b[0m in \u001b[0;36m__getitem__\u001b[1;34m(self, key)\u001b[0m\n\u001b[0;32m   3022\u001b[0m             \u001b[1;32mif\u001b[0m \u001b[0mself\u001b[0m\u001b[1;33m.\u001b[0m\u001b[0mcolumns\u001b[0m\u001b[1;33m.\u001b[0m\u001b[0mnlevels\u001b[0m \u001b[1;33m>\u001b[0m \u001b[1;36m1\u001b[0m\u001b[1;33m:\u001b[0m\u001b[1;33m\u001b[0m\u001b[1;33m\u001b[0m\u001b[0m\n\u001b[0;32m   3023\u001b[0m                 \u001b[1;32mreturn\u001b[0m \u001b[0mself\u001b[0m\u001b[1;33m.\u001b[0m\u001b[0m_getitem_multilevel\u001b[0m\u001b[1;33m(\u001b[0m\u001b[0mkey\u001b[0m\u001b[1;33m)\u001b[0m\u001b[1;33m\u001b[0m\u001b[1;33m\u001b[0m\u001b[0m\n\u001b[1;32m-> 3024\u001b[1;33m             \u001b[0mindexer\u001b[0m \u001b[1;33m=\u001b[0m \u001b[0mself\u001b[0m\u001b[1;33m.\u001b[0m\u001b[0mcolumns\u001b[0m\u001b[1;33m.\u001b[0m\u001b[0mget_loc\u001b[0m\u001b[1;33m(\u001b[0m\u001b[0mkey\u001b[0m\u001b[1;33m)\u001b[0m\u001b[1;33m\u001b[0m\u001b[1;33m\u001b[0m\u001b[0m\n\u001b[0m\u001b[0;32m   3025\u001b[0m             \u001b[1;32mif\u001b[0m \u001b[0mis_integer\u001b[0m\u001b[1;33m(\u001b[0m\u001b[0mindexer\u001b[0m\u001b[1;33m)\u001b[0m\u001b[1;33m:\u001b[0m\u001b[1;33m\u001b[0m\u001b[1;33m\u001b[0m\u001b[0m\n\u001b[0;32m   3026\u001b[0m                 \u001b[0mindexer\u001b[0m \u001b[1;33m=\u001b[0m \u001b[1;33m[\u001b[0m\u001b[0mindexer\u001b[0m\u001b[1;33m]\u001b[0m\u001b[1;33m\u001b[0m\u001b[1;33m\u001b[0m\u001b[0m\n",
      "\u001b[1;32md:\\software\\python\\lib\\site-packages\\pandas\\core\\indexes\\base.py\u001b[0m in \u001b[0;36mget_loc\u001b[1;34m(self, key, method, tolerance)\u001b[0m\n\u001b[0;32m   3080\u001b[0m                 \u001b[1;32mreturn\u001b[0m \u001b[0mself\u001b[0m\u001b[1;33m.\u001b[0m\u001b[0m_engine\u001b[0m\u001b[1;33m.\u001b[0m\u001b[0mget_loc\u001b[0m\u001b[1;33m(\u001b[0m\u001b[0mcasted_key\u001b[0m\u001b[1;33m)\u001b[0m\u001b[1;33m\u001b[0m\u001b[1;33m\u001b[0m\u001b[0m\n\u001b[0;32m   3081\u001b[0m             \u001b[1;32mexcept\u001b[0m \u001b[0mKeyError\u001b[0m \u001b[1;32mas\u001b[0m \u001b[0merr\u001b[0m\u001b[1;33m:\u001b[0m\u001b[1;33m\u001b[0m\u001b[1;33m\u001b[0m\u001b[0m\n\u001b[1;32m-> 3082\u001b[1;33m                 \u001b[1;32mraise\u001b[0m \u001b[0mKeyError\u001b[0m\u001b[1;33m(\u001b[0m\u001b[0mkey\u001b[0m\u001b[1;33m)\u001b[0m \u001b[1;32mfrom\u001b[0m \u001b[0merr\u001b[0m\u001b[1;33m\u001b[0m\u001b[1;33m\u001b[0m\u001b[0m\n\u001b[0m\u001b[0;32m   3083\u001b[0m \u001b[1;33m\u001b[0m\u001b[0m\n\u001b[0;32m   3084\u001b[0m         \u001b[1;32mif\u001b[0m \u001b[0mtolerance\u001b[0m \u001b[1;32mis\u001b[0m \u001b[1;32mnot\u001b[0m \u001b[1;32mNone\u001b[0m\u001b[1;33m:\u001b[0m\u001b[1;33m\u001b[0m\u001b[1;33m\u001b[0m\u001b[0m\n",
      "\u001b[1;31mKeyError\u001b[0m: 'cuisine'"
     ]
    }
   ],
   "source": [
    "# Setting up for modelling \n",
    "feature_matrix = tf_idf_vector.toarray()\n",
    "data_features = pd.DataFrame(feature_matrix)\n",
    "feature_names = cv.get_feature_names()\n",
    "data_features.columns = [feature_names]\n",
    "#y = d_train['cuisine']\n",
    "y = d_test['ingredients']"
   ]
  },
  {
   "cell_type": "markdown",
   "id": "6e557e20",
   "metadata": {},
   "source": [
    "## SPLIT TRAIN AND TEST"
   ]
  },
  {
   "cell_type": "code",
   "execution_count": 42,
   "id": "b7e3a981",
   "metadata": {},
   "outputs": [
    {
     "name": "stdout",
     "output_type": "stream",
     "text": [
      "Size of feature matrix is: (31819, 6714)\n"
     ]
    }
   ],
   "source": [
    "warnings.filterwarnings('ignore')\n",
    "X_train, X_test, y_train, y_test = train_test_split(data_features, y, test_size = 0.2, shuffle = True, random_state = 42)\n",
    "print('Size of feature matrix is: ' + str(X_train.shape))"
   ]
  },
  {
   "cell_type": "markdown",
   "id": "2fac66ef",
   "metadata": {},
   "source": [
    "### SMOTE"
   ]
  },
  {
   "cell_type": "code",
   "execution_count": 43,
   "id": "c3857237",
   "metadata": {},
   "outputs": [],
   "source": [
    "# Initialize SMOTE to correct for class imbalance\n",
    "sm = SMOTE()"
   ]
  },
  {
   "cell_type": "code",
   "execution_count": 44,
   "id": "5d0d9c69",
   "metadata": {},
   "outputs": [],
   "source": [
    "# Logistic Regression Classifier\n",
    "lr = LogisticRegression()"
   ]
  },
  {
   "cell_type": "code",
   "execution_count": 45,
   "id": "d1544e00",
   "metadata": {},
   "outputs": [],
   "source": [
    "# Generate a pipeline with SMOTE and logistic regression\n",
    "pipeline = Pipeline([('sm', sm), ('lr', lr)])"
   ]
  },
  {
   "cell_type": "code",
   "execution_count": 46,
   "id": "256177c1",
   "metadata": {},
   "outputs": [],
   "source": [
    "# Grid search parameters for logistic regression\n",
    "params = {\"lr__C\" : [0.5, 1, 2], \n",
    "          \"lr__penalty\" : [\"l1\", \"l2\"]}"
   ]
  },
  {
   "cell_type": "code",
   "execution_count": 47,
   "id": "95415e98",
   "metadata": {},
   "outputs": [],
   "source": [
    "# Perform Grid Search\n",
    "grid_lr = GridSearchCV(pipeline, params, cv = 3)\n",
    "#grid_lr.fit(X_train, y_train)"
   ]
  },
  {
   "cell_type": "markdown",
   "id": "56d25202",
   "metadata": {},
   "source": [
    "## Random forest"
   ]
  },
  {
   "cell_type": "code",
   "execution_count": 48,
   "id": "1de7df03",
   "metadata": {},
   "outputs": [
    {
     "data": {
      "text/plain": [
       "RandomForestClassifier(random_state=0)"
      ]
     },
     "execution_count": 48,
     "metadata": {},
     "output_type": "execute_result"
    }
   ],
   "source": [
    "clf = RandomForestClassifier(n_estimators=100, random_state=0)\n",
    "clf.fit(X_train, y_train)"
   ]
  },
  {
   "cell_type": "code",
   "execution_count": 49,
   "id": "56439fd0",
   "metadata": {},
   "outputs": [],
   "source": [
    "#grid_lr.fit(X_train, y_train)"
   ]
  },
  {
   "cell_type": "code",
   "execution_count": 50,
   "id": "bd18cae1",
   "metadata": {},
   "outputs": [
    {
     "data": {
      "image/png": "[encoded data removed]",
      "text/plain": [
       "<Figure size 576x432 with 2 Axes>"
      ]
     },
     "metadata": {},
     "output_type": "display_data"
    }
   ],
   "source": [
    "# Classification results using confusion matrix\n",
    "cuisines = d_train['cuisine'].value_counts().index\n",
    "labels = np.unique(y_test)\n",
    "\n",
    "RF_Confusion = confusion_matrix(y_test, clf.predict(X_test), labels=labels) # construct confusion matrix \n",
    "plot_confusion_matrix(RF_Confusion, target_names=labels, title = 'Random Forest Confusion Matrix')"
   ]
  },
  {
   "cell_type": "code",
   "execution_count": 51,
   "id": "d53b2287",
   "metadata": {},
   "outputs": [
    {
     "name": "stdout",
     "output_type": "stream",
     "text": [
      "f1-score=0.707 accuracy=0.723\n"
     ]
    }
   ],
   "source": [
    "# Calculation of weighted F1 score \n",
    "RF_f1 = f1_score(y_test, clf.predict(X_test), average = 'weighted') # calculate F1 score\n",
    "\n",
    "# Calculation of average accuracy score \n",
    "RF_acc = clf.score(X_test, y_test)\n",
    "\n",
    "print('f1-score=%.3f accuracy=%.3f' % (RF_f1, RF_acc))"
   ]
  },
  {
   "cell_type": "markdown",
   "id": "16a58f51",
   "metadata": {},
   "source": [
    "## XGBoost"
   ]
  },
  {
   "cell_type": "code",
   "execution_count": 26,
   "id": "c6c95f45",
   "metadata": {},
   "outputs": [
    {
     "name": "stdout",
     "output_type": "stream",
     "text": [
      "[12:01:15] WARNING: C:/Users/Administrator/workspace/xgboost-win64_release_1.4.0/src/learner.cc:1095: Starting in XGBoost 1.3.0, the default evaluation metric used with the objective 'multi:softprob' was changed from 'merror' to 'mlogloss'. Explicitly set eval_metric if you'd like to restore the old behavior.\n",
      "9659.119737386703 seconds\n"
     ]
    }
   ],
   "source": [
    "start = time.time()\n",
    "\n",
    "# fit model no training data\n",
    "#model = XGBClassifier(max_depth=20, learning_rate=0.3, n_estimates=100, objective=\"multi:softmax\", n_jobs=4)\n",
    "#model = XGBClassifier(max_depth=3, learning_rate=0.3,n_estimators=100,booster='gbtree',n_jobs=4,nthread=4) #1276.1340160369873 seconds 72%\n",
    "#model = XGBClassifier(max_depth=10, learning_rate=0.3,n_estimators=100,booster='gbtree',n_jobs=4,nthread=4) #4054.4009137153625 seconds 74%\n",
    "#model = XGBClassifier(max_depth=10, learning_rate=0.1,n_estimators=100,booster='gbtree',n_jobs=4,nthread=4) #3983.120007276535 seconds 73,5%\n",
    "#model = XGBClassifier(max_depth=20, learning_rate=0.3,n_estimators=100,booster='gbtree',n_jobs=4,nthread=6) #6718.18036699295 seconds 74.13%\n",
    "#model = XGBClassifier(max_depth=25, learning_rate=0.3, n_estimates=200, objective=\"multi:softmax\", n_jobs=10) #6188.598341703415 seconds 74.20%\n",
    "#model = XGBClassifier(max_depth=25, learning_rate=0.3, n_estimates=200, objective=\"multi:softmax\",booster='gbtree',num_class=20, n_jobs=10) #6022.938164949417 seconds 74.20%\n",
    "#model = XGBClassifier(max_depth=20, learning_rate=0.3, n_estimators=200,booster='gbtree',num_class=20, n_jobs=10) #9635.359570264816 seconds 74.41%\n",
    "model = XGBClassifier(max_depth=20, learning_rate=0.3, n_estimators=200,objective = \"multi:softmax\",num_class=20, n_jobs=10)\n",
    "\n",
    "model.fit(X_train, y_train)\n",
    "# make predictions for test data\n",
    "y_pred = model.predict(X_test)\n",
    "end = time.time()\n",
    "print(str(end - start) + \" seconds\")\n"
   ]
  },
  {
   "cell_type": "code",
   "execution_count": 27,
   "id": "6a132e8c",
   "metadata": {},
   "outputs": [
    {
     "name": "stdout",
     "output_type": "stream",
     "text": [
      "Accuracy: 74.41%\n"
     ]
    }
   ],
   "source": [
    "predictions = [value for value in y_pred]\n",
    "# evaluate predictions\n",
    "accuracy = accuracy_score(y_test, predictions)\n",
    "print(\"Accuracy: %.2f%%\" % (accuracy * 100.0))"
   ]
  },
  {
   "cell_type": "code",
   "execution_count": null,
   "id": "93b1f45f",
   "metadata": {},
   "outputs": [],
   "source": []
  },
  {
   "cell_type": "code",
   "execution_count": null,
   "id": "a6112fea",
   "metadata": {},
   "outputs": [],
   "source": []
  }
 ],
 "metadata": {
  "kernelspec": {
   "display_name": "Python 3",
   "language": "python",
   "name": "python3"
  },
  "language_info": {
   "codemirror_mode": {
    "name": "ipython",
    "version": 3
   },
   "file_extension": ".py",
   "mimetype": "text/x-python",
   "name": "python",
   "nbconvert_exporter": "python",
   "pygments_lexer": "ipython3",
   "version": "3.9.2"
  }
 },
 "nbformat": 4,
 "nbformat_minor": 5
}
